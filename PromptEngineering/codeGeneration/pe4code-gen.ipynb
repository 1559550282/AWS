{
 "cells": [
  {
   "cell_type": "markdown",
   "id": "0d9bee00-c9f9-47c5-ac7e-c78f6936cf1e",
   "metadata": {
    "tags": []
   },
   "source": [
    "# Prompt Tips for Code Generation \n",
    "> *This notebook runs on conda_python3. To test the generated code, you'd better use vscode in your local env."
   ]
  },
  {
   "cell_type": "markdown",
   "id": "b920ca4a-a71d-4630-a6e4-577d95192ad1",
   "metadata": {},
   "source": [
    "## Introduction\n",
    "\n",
    "This demo gathers some tips on Code generation. This field keeps evolving super fast, we will keep finding and refreshing tips on a regular basis.\n",
    "In this demo, we use Claude V2 to test the LLM capacity for code generation."
   ]
  },
  {
   "cell_type": "markdown",
   "id": "aa11828a-243d-4808-9c92-e8caf4cebd37",
   "metadata": {},
   "source": [
    "## Setup\n",
    "\n",
    "Before running the rest of this notebook, you'll need to run the cells below to (ensure necessary libraries are installed and) connect to Bedrock.\n"
   ]
  },
  {
   "cell_type": "code",
   "execution_count": 1,
   "id": "49e2c0a9-4838-4f2b-bb36-61c0cbcd62af",
   "metadata": {
    "tags": []
   },
   "outputs": [
    {
     "name": "stdout",
     "output_type": "stream",
     "text": [
      "Requirement already satisfied: boto3 in /home/ec2-user/anaconda3/envs/python3/lib/python3.10/site-packages (1.28.63)\n",
      "Requirement already satisfied: botocore<1.32.0,>=1.31.63 in /home/ec2-user/anaconda3/envs/python3/lib/python3.10/site-packages (from boto3) (1.31.63)\n",
      "Requirement already satisfied: jmespath<2.0.0,>=0.7.1 in /home/ec2-user/anaconda3/envs/python3/lib/python3.10/site-packages (from boto3) (1.0.1)\n",
      "Requirement already satisfied: s3transfer<0.8.0,>=0.7.0 in /home/ec2-user/anaconda3/envs/python3/lib/python3.10/site-packages (from boto3) (0.7.0)\n",
      "Requirement already satisfied: python-dateutil<3.0.0,>=2.1 in /home/ec2-user/anaconda3/envs/python3/lib/python3.10/site-packages (from botocore<1.32.0,>=1.31.63->boto3) (2.8.2)\n",
      "Requirement already satisfied: urllib3<2.1,>=1.25.4 in /home/ec2-user/anaconda3/envs/python3/lib/python3.10/site-packages (from botocore<1.32.0,>=1.31.63->boto3) (1.26.14)\n",
      "Requirement already satisfied: six>=1.5 in /home/ec2-user/anaconda3/envs/python3/lib/python3.10/site-packages (from python-dateutil<3.0.0,>=2.1->botocore<1.32.0,>=1.31.63->boto3) (1.16.0)\n",
      "Note: you may need to restart the kernel to use updated packages.\n",
      "Note: you may need to restart the kernel to use updated packages.\n"
     ]
    }
   ],
   "source": [
    "%pip install boto3 --upgrade\n",
    "%pip install --quiet langchain --upgrade"
   ]
  },
  {
   "cell_type": "code",
   "execution_count": 2,
   "id": "55a3e4f1",
   "metadata": {
    "tags": []
   },
   "outputs": [],
   "source": [
    "import warnings\n",
    "warnings.filterwarnings('ignore')"
   ]
  },
  {
   "cell_type": "code",
   "execution_count": 8,
   "id": "049a3264-b77d-48f0-a3b0-e7fd74aadc86",
   "metadata": {
    "tags": []
   },
   "outputs": [],
   "source": [
    "import json\n",
    "import os\n",
    "import sys\n",
    "\n",
    "import boto3\n",
    "\n",
    "boto3_bedrock = boto3.client(service_name='bedrock-runtime')\n",
    "\n"
   ]
  },
  {
   "cell_type": "code",
   "execution_count": 9,
   "id": "8ffa1250-56cd-4b6d-b3d8-c62baac143ce",
   "metadata": {
    "tags": []
   },
   "outputs": [],
   "source": [
    "from langchain.llms.bedrock import Bedrock\n",
    "\n",
    "inference_modifier = {'max_tokens_to_sample':4096, \n",
    "                      \"temperature\":1,\n",
    "                      \"top_k\":10,\n",
    "                      \"top_p\":1,\n",
    "                      \"stop_sequences\": [\"\\n\\nHuman\"]\n",
    "                     }\n",
    "\n",
    "textgen_llm = Bedrock(model_id = \"anthropic.claude-v2\",\n",
    "                    client = boto3_bedrock, \n",
    "                    model_kwargs = inference_modifier \n",
    "                    )\n"
   ]
  },
  {
   "cell_type": "markdown",
   "id": "de2678ed-f0d6-444f-9a57-5170dd1952f7",
   "metadata": {},
   "source": [
    "## 场景一\n",
    "\n",
    "体验使用自然语言描述一个比较复杂逻辑.通过代码生成得到完整的实现"
   ]
  },
  {
   "cell_type": "code",
   "execution_count": 10,
   "id": "501c6592-61f8-4a21-9271-d9ae5b49d306",
   "metadata": {
    "tags": []
   },
   "outputs": [],
   "source": [
    "requir_str = \"\"\"\n",
    "1. Create a list of movies\n",
    "2. Create a list of ratings for these movies\n",
    "3. Combine them to make a json object of 10 movies with their ratings.\n",
    "\"\"\""
   ]
  },
  {
   "cell_type": "code",
   "execution_count": 22,
   "id": "dbec103a-97ae-4e9e-9d80-dc20f354a228",
   "metadata": {
    "tags": []
   },
   "outputs": [],
   "source": [
    "from langchain import PromptTemplate\n",
    "\n",
    "# Create a prompt template that has multiple input variables\n",
    "coder_prompt = PromptTemplate(\n",
    "    input_variables=[\"reqirement\", \"programmingLanguage\"], \n",
    "    template=\"\"\"\n",
    "\n",
    "Human: You will be acting as an expert software developer in {programmingLanguage}. \n",
    "Please generate runnable code according to the following requirements.\n",
    "<reqirement>\n",
    "{reqirement}\n",
    "</reqirement>\n",
    "\n",
    "Assistant:\"\"\"\n",
    ")\n",
    "\n",
    "# Pass in values to the input variables\n",
    "prompt = coder_prompt.format(reqirement=requir_str, programmingLanguage=\"python\")\n"
   ]
  },
  {
   "cell_type": "markdown",
   "id": "a5b76387",
   "metadata": {},
   "source": [
    "### Generate the code according to requirement using Amazon Bedrock Claudev2 and LangChain"
   ]
  },
  {
   "cell_type": "code",
   "execution_count": 13,
   "id": "c1064c57-27a4-48c5-911b-e4f1dfeff122",
   "metadata": {
    "tags": []
   },
   "outputs": [
    {
     "name": "stdout",
     "output_type": "stream",
     "text": [
      "\n",
      "```python\n",
      "import json\n",
      "\n",
      "movies = [\"The Shawshank Redemption\", \"The Godfather\", \"The Dark Knight\", \"12 Angry Men\", \n",
      "          \"Schindler's List\", \"Pulp Fiction\", \"The Lord of the Rings: The Return of the King\", \n",
      "          \"The Good, the Bad and the Ugly\", \"Fight Club\", \"Forrest Gump\"]\n",
      "\n",
      "ratings = [9.2, 9.2, 9.0, 8.9, 8.9, 8.9, 8.9, 8.8, 8.8, 8.8]\n",
      "\n",
      "movie_dict = []\n",
      "for i in range(10):\n",
      "    movie_dict.append({\"title\": movies[i], \"rating\": ratings[i]})\n",
      "\n",
      "movie_json = json.dumps(movie_dict)\n",
      "\n",
      "print(movie_json)\n",
      "```\n",
      "\n",
      "This creates a list of 10 popular movies, a corresponding list of ratings, combines them into a list of dictionaries, and dumps that list into a JSON string.\n"
     ]
    }
   ],
   "source": [
    "response = textgen_llm(prompt)\n",
    "\n",
    "code_explanation = response[response.index('\\n')+1:]\n",
    "\n",
    "print(code_explanation)"
   ]
  },
  {
   "cell_type": "markdown",
   "id": "9e9abc40",
   "metadata": {},
   "source": [
    "### test\n",
    "\n",
    "Testing the generated code"
   ]
  },
  {
   "cell_type": "code",
   "execution_count": 14,
   "id": "e786e42b-477f-4a39-8034-4d13531598fa",
   "metadata": {},
   "outputs": [
    {
     "name": "stdout",
     "output_type": "stream",
     "text": [
      "[{\"title\": \"The Shawshank Redemption\", \"rating\": 9.2}, {\"title\": \"The Godfather\", \"rating\": 9.2}, {\"title\": \"The Dark Knight\", \"rating\": 9.0}, {\"title\": \"12 Angry Men\", \"rating\": 8.9}, {\"title\": \"Schindler's List\", \"rating\": 8.9}, {\"title\": \"Pulp Fiction\", \"rating\": 8.9}, {\"title\": \"The Lord of the Rings: The Return of the King\", \"rating\": 8.9}, {\"title\": \"The Good, the Bad and the Ugly\", \"rating\": 8.8}, {\"title\": \"Fight Club\", \"rating\": 8.8}, {\"title\": \"Forrest Gump\", \"rating\": 8.8}]\n"
     ]
    }
   ],
   "source": [
    "import json\n",
    "\n",
    "movies = [\"The Shawshank Redemption\", \"The Godfather\", \"The Dark Knight\", \"12 Angry Men\", \n",
    "          \"Schindler's List\", \"Pulp Fiction\", \"The Lord of the Rings: The Return of the King\", \n",
    "          \"The Good, the Bad and the Ugly\", \"Fight Club\", \"Forrest Gump\"]\n",
    "\n",
    "ratings = [9.2, 9.2, 9.0, 8.9, 8.9, 8.9, 8.9, 8.8, 8.8, 8.8]\n",
    "\n",
    "movie_dict = []\n",
    "for i in range(10):\n",
    "    movie_dict.append({\"title\": movies[i], \"rating\": ratings[i]})\n",
    "\n",
    "movie_json = json.dumps(movie_dict)\n",
    "\n",
    "print(movie_json)"
   ]
  },
  {
   "cell_type": "markdown",
   "id": "bc629a4b-3cdb-44cc-bf9c-7d7a39447662",
   "metadata": {
    "tags": []
   },
   "source": [
    "## 场景二\n",
    "有时LLM产生的是代码片段，可能并不包含所需要的import package部分，导致程序无法正常运行。指令其必须import需要的包\n",
    "如下，在没有加入特别指令要求时："
   ]
  },
  {
   "cell_type": "code",
   "execution_count": 21,
   "id": "79d69bff-9854-4def-921a-381ae7589a37",
   "metadata": {
    "tags": []
   },
   "outputs": [
    {
     "name": "stdout",
     "output_type": "stream",
     "text": [
      "\n",
      "```python\n",
      "from sklearn.datasets import load_iris\n",
      "from matplotlib import pyplot as plt\n",
      "\n",
      "# Load the iris dataset\n",
      "iris = load_iris()\n",
      "\n",
      "# Extract the features and target\n",
      "X = iris.data\n",
      "y = iris.target \n",
      "\n",
      "# Plot the training data\n",
      "plt.scatter(X[:,0], X[:,1], c=y)\n",
      "plt.xlabel('Sepal Length (cm)')\n",
      "plt.ylabel('Sepal Width (cm)')\n",
      "plt.title('Iris Dataset - Training Data')\n",
      "plt.legend(iris.target_names)\n",
      "plt.show()\n",
      "```\n",
      "\n",
      "This loads the iris dataset, extracts the feature data (X) and target values (y), then plots a scatter plot of the Sepal Length vs Sepal Width colored by the target class. The iris target names are used in the legend. This provides a visualization of the training data for the iris classification problem.\n"
     ]
    }
   ],
   "source": [
    "requir_str = \"\"\"\n",
    "Load iris data from scikit-learn datasets and plot the training data.\n",
    "Be helpful and import any needed libraries first.\n",
    "\"\"\"\n",
    "prompt = coder_prompt.format(reqirement=requir_str, programmingLanguage=\"python\")\n",
    "\n",
    "response = textgen_llm(prompt)\n",
    "code_explanation = response[response.index('\\n')+1:]\n",
    "print(code_explanation)"
   ]
  },
  {
   "cell_type": "markdown",
   "id": "5a94aa5d-ed57-4795-9c18-953a59b92f30",
   "metadata": {},
   "source": [
    "### Test"
   ]
  },
  {
   "cell_type": "code",
   "execution_count": 23,
   "id": "4c9693d7-d781-42f6-9fd7-49f90786baf4",
   "metadata": {
    "tags": []
   },
   "outputs": [
    {
     "data": {
      "image/png": "[encoded data removed]",
      "text/plain": [
       "<Figure size 640x480 with 1 Axes>"
      ]
     },
     "metadata": {},
     "output_type": "display_data"
    }
   ],
   "source": [
    "from sklearn.datasets import load_iris\n",
    "from matplotlib import pyplot as plt\n",
    "\n",
    "# Load the iris dataset\n",
    "iris = load_iris()\n",
    "\n",
    "# Extract the features and target\n",
    "X = iris.data\n",
    "y = iris.target \n",
    "\n",
    "# Plot the training data\n",
    "plt.scatter(X[:,0], X[:,1], c=y)\n",
    "plt.xlabel('Sepal Length (cm)')\n",
    "plt.ylabel('Sepal Width (cm)')\n",
    "plt.title('Iris Dataset - Training Data')\n",
    "plt.legend(iris.target_names)\n",
    "plt.show()"
   ]
  },
  {
   "cell_type": "markdown",
   "id": "1703f395-a585-4c27-8bef-6675bb081bda",
   "metadata": {
    "tags": []
   },
   "source": [
    "## 场景三 \n",
    "如果需要LLM生成的代码中包含自己的一些代码库，可以使用few shot的模式将API展示出来，以便于LLM使用这些Lib为我们生成代码"
   ]
  },
  {
   "cell_type": "code",
   "execution_count": 28,
   "id": "e1fed34a-9722-4acf-83bd-d153b524531e",
   "metadata": {
    "tags": []
   },
   "outputs": [],
   "source": [
    "from langchain import PromptTemplate\n",
    "\n",
    "# Create a prompt template that has multiple input variables\n",
    "api_prompt = PromptTemplate(\n",
    "    input_variables=[\"reqirement\", \"programmingLanguage\",\"API\"], \n",
    "    template=\"\"\"\n",
    "\n",
    "Human: You will be acting as an expert software developer in {programmingLanguage}. \n",
    "aside from the general libs, you have the following APIs:\n",
    "<API>\n",
    "{API}\n",
    "</API>\n",
    "Please generate runnable code according to the following requirements.\n",
    "<reqirement>\n",
    "{reqirement}\n",
    "</reqirement>\n",
    "\n",
    "Assistant:\"\"\"\n",
    ")\n"
   ]
  },
  {
   "cell_type": "code",
   "execution_count": 29,
   "id": "d32dd30c-1dc8-421b-997d-9aa75616c0ab",
   "metadata": {
    "tags": []
   },
   "outputs": [
    {
     "name": "stdout",
     "output_type": "stream",
     "text": [
      "\n",
      "```python\n",
      "# Walk forward 5 blocks\n",
      "moveRelative(0, 5) \n",
      "\n",
      "# Turn 90 degrees right\n",
      "lookAtEntity(null)\n",
      "\n",
      "# Walk right 5 blocks  \n",
      "moveRelative(5, 0)\n",
      "\n",
      "# Turn 90 degrees right\n",
      "lookAtEntity(null)\n",
      "\n",
      "# Walk backward 5 blocks\n",
      "moveRelative(0, -5)  \n",
      "\n",
      "# Turn 90 degrees right\n",
      "lookAtEntity(null)\n",
      "\n",
      "# Walk left 5 blocks\n",
      "moveRelative(-5, 0)\n",
      "\n",
      "# Turn to original orientation\n",
      "lookAtEntity(null)\n",
      "```\n",
      "\n",
      "This code makes the simulated player walk forward 5 blocks, turn right 90 degrees, walk right 5 blocks, turn right 90 degrees, walk backward 5 blocks, turn right 90 degrees again, walk left 5 blocks, and finally turn back to the original orientation. The lookAtEntity(null) calls just rotate the player right without looking at any entity. This sequence traces out a rectangle shape as requested.\n"
     ]
    }
   ],
   "source": [
    "api_str = \"\"\"\n",
    "// API REFERENCE:\n",
    "// moveRelative(leftRight: number, backwardForward: number, speed?: number): void - Orders the simulated player to walk in the given direction relative to the player's current rotation.\n",
    "// stopMoving(): void - Stops moving/walking/following if the simulated player is moving.\n",
    "// lookAtEntity(entity: Entity): void - Rotates the simulated player's head/body to look at the given entity.\n",
    "// jumpUp(): boolean - Causes the simulated player to jump.\n",
    "// chat(message: string): void - Sends a chat message from the simulated player.\n",
    "// listInventory(object: Block | SimulatedPlayer | Player): InventoryComponentContainer - returns a container enumerating all the items a player or treasure chest has\n",
    "\"\"\"\n",
    "requir_str = \"\"\"\n",
    "order the simulated player to walk arount in a rectangle for one time.\n",
    "\"\"\"\n",
    "\n",
    "prompt = api_prompt.format(reqirement=requir_str, programmingLanguage=\"python\", API=api_str)\n",
    "\n",
    "response = textgen_llm(prompt)\n",
    "\n",
    "code_explanation = response[response.index('\\n')+1:]\n",
    "\n",
    "print(code_explanation)"
   ]
  },
  {
   "cell_type": "markdown",
   "id": "99c1293a-9088-4124-ad40-5338a3f2519e",
   "metadata": {
    "tags": []
   },
   "source": [
    "## 场景四\n",
    "使用架构师的角色先设计程序架构再生成代码，会产生架构更为优美的代码\n",
    "\n",
    "下面演示构建一个贪吃蛇的小游戏。首先直接描述需求并要求生成代码。生成的代码为面向过程的。\n",
    "验证代码可以在本机上产生GUI测试。"
   ]
  },
  {
   "cell_type": "code",
   "execution_count": 32,
   "id": "3dace48b-6b0a-499f-874b-4d3bcba1b2f6",
   "metadata": {
    "tags": []
   },
   "outputs": [],
   "source": [
    "from langchain import PromptTemplate\n",
    "\n",
    "# Create a prompt template that has multiple input variables\n",
    "coder_prompt = PromptTemplate(\n",
    "    input_variables=[\"reqirement\", \"programmingLanguage\"], \n",
    "    template=\"\"\"\n",
    "\n",
    "Human: You will be acting as an expert software developer in {programmingLanguage}. \n",
    "Please generate runnable code according to the following requirements.\n",
    "<reqirement>\n",
    "{reqirement}\n",
    "</reqirement>\n",
    "\n",
    "Assistant:\"\"\"\n",
    ")"
   ]
  },
  {
   "cell_type": "code",
   "execution_count": 34,
   "id": "1b2dded7-a62a-4987-bf72-2847e2226ba6",
   "metadata": {
    "tags": []
   },
   "outputs": [
    {
     "name": "stdout",
     "output_type": "stream",
     "text": [
      "\n",
      "```python\n",
      "import pygame\n",
      "import random\n",
      "import sys\n",
      "\n",
      "# Setup screen\n",
      "pygame.init()\n",
      "screen = pygame.display.set_mode((600, 600))\n",
      "pygame.display.set_caption('Snake')\n",
      "\n",
      "# Snake variables\n",
      "snake_pos = [300, 300]\n",
      "snake_body = [[300, 300], [290, 300], [280, 300]]\n",
      "snake_direction = 'RIGHT'\n",
      "\n",
      "# Food\n",
      "food_pos = [random.randrange(1, 600//10)*10, random.randrange(1, 600//10)*10] \n",
      "food_spawn = True\n",
      "\n",
      "# Game variables\n",
      "game_over = False\n",
      "score = 0\n",
      "\n",
      "while not game_over:\n",
      "\n",
      "    for event in pygame.event.get():\n",
      "        if event.type == pygame.QUIT:\n",
      "            game_over = True\n",
      "        \n",
      "        # Keypresses\n",
      "        if event.type == pygame.KEYDOWN:\n",
      "            if event.key == pygame.K_LEFT and snake_direction != 'RIGHT':\n",
      "                snake_direction = 'LEFT'\n",
      "            if event.key == pygame.K_RIGHT and snake_direction != 'LEFT':\n",
      "                snake_direction = 'RIGHT'\n",
      "            if event.key == pygame.K_UP and snake_direction != 'DOWN':\n",
      "                snake_direction = 'UP'\n",
      "            if event.key == pygame.K_DOWN and snake_direction != 'UP':\n",
      "                snake_direction = 'DOWN'\n",
      "\n",
      "    # Moving the snake\n",
      "    if snake_direction == 'UP':\n",
      "        snake_pos[1] -= 10\n",
      "    if snake_direction == 'DOWN':\n",
      "        snake_pos[1] += 10\n",
      "    if snake_direction == 'LEFT':\n",
      "        snake_pos[0] -= 10\n",
      "    if snake_direction == 'RIGHT':\n",
      "        snake_pos[0] += 10\n",
      "        \n",
      "    # Snake body mechanism\n",
      "    snake_body.insert(0, list(snake_pos))\n",
      "    if snake_pos[0] == food_pos[0] and snake_pos[1] == food_pos[1]:\n",
      "        score += 1\n",
      "        food_spawn = False\n",
      "    else:\n",
      "        snake_body.pop()\n",
      "        \n",
      "    # Spawn food\n",
      "    if not food_spawn:\n",
      "        food_pos = [random.randrange(1, 600//10)*10, random.randrange(1, 600//10)*10]\n",
      "        food_spawn = True\n",
      "        \n",
      "    # Game Over conditions\n",
      "    if snake_pos[0] < 0 or snake_pos[0] > 600-10:\n",
      "        game_over = True\n",
      "    if snake_pos[1] < 0 or snake_pos[1] > 600-10:\n",
      "        game_over = True\n",
      "    \n",
      "    # Touching tail\n",
      "    for block in snake_body[1:]:\n",
      "        if snake_pos[0] == block[0] and snake_pos[1] == block[1]:\n",
      "            game_over = True\n",
      "        \n",
      "    # Draw snake\n",
      "    screen.fill((0,0,0)) \n",
      "    for pos in snake_body:\n",
      "        pygame.draw.rect(screen, (200,200,200), pygame.Rect(pos[0], pos[1], 10, 10))\n",
      "        \n",
      "    # Draw food\n",
      "    pygame.draw.rect(screen, (255,160,60), pygame.Rect(food_pos[0], food_pos[1], 10, 10))\n",
      "    \n",
      "    # Update screen\n",
      "    pygame.display.flip()\n",
      "    pygame.time.delay(150) \n",
      "\n",
      "# Gameover screen\n",
      "pygame.quit()\n",
      "sys.exit()\n",
      "```\n",
      "\n",
      "This implements a simple snake game with keyboard controls, snake body mechanics, food spawning, and game over conditions. The PyGame library is used for graphics and input handling. Feel free to build on this skeleton code to add more features!\n"
     ]
    }
   ],
   "source": [
    "requir_str = \"\"\"\n",
    "请生成一个贪吃蛇的小游戏。键盘操控小蛇四处走动，小蛇遇到食物后吃掉即长大相应的尺寸，食物被吃掉后将再次在随机位置出现。小蛇遇到边界则game over.\n",
    "\"\"\"\n",
    "prompt = coder_prompt.format(reqirement=requir_str, programmingLanguage=\"python\")\n",
    "\n",
    "response = textgen_llm(prompt)\n",
    "code_explanation = response[response.index('\\n')+1:]\n",
    "print(code_explanation)"
   ]
  },
  {
   "cell_type": "markdown",
   "id": "10a8f0a4-a459-4747-b569-c642a3829101",
   "metadata": {},
   "source": [
    "### 先使用Solution Architect生成代码思路\n",
    "\n",
    "先使用solution architect生成代码思路，再基于SA构建代码框架生成面向对象的代码 "
   ]
  },
  {
   "cell_type": "code",
   "execution_count": 44,
   "id": "267a7f4d-afb6-4551-9816-4f56a7422bc3",
   "metadata": {},
   "outputs": [
    {
     "name": "stdout",
     "output_type": "stream",
     "text": [
      "\n",
      "1. Game class - The main game class that contains the game loop and initializes all other components. It will handle keyboard input for controlling the snake.\n",
      "\n",
      "2. Snake class - Represents the snake on the screen. Contains data like position, size, direction, etc. Has methods like move(), grow(), die(), etc. \n",
      "\n",
      "3. Food class - Represents the food items. Contains position data and a method to reposition itself to a random location when eaten by the snake.\n",
      "\n",
      "4. Board class - Represents the game board. Knows the board dimensions and handles boundary detection. Can check for collisions between snake and food.\n",
      "\n",
      "5. Renderer class - Renders the game state to the screen each frame. Can have methods like drawSnake(), drawFood(), drawBoard(), etc.\n",
      "\n",
      "6. InputHandler class - Listens for keyboard input and converts key presses to direction changes for the snake. \n",
      "\n",
      "7. GameOverScreen class - Shown when game ends due to collision. Can render game over text and handle restarting the game.\n",
      "\n",
      "The Game class will bring together all these components and manage the high-level game logic like:\n",
      "- Initializing the board, snake, food\n",
      "- Running the game loop \n",
      "   - Checking for collisions\n",
      "   - Moving the snake\n",
      "   - Rendering the current state\n",
      "   - Checking for game over\n",
      "- Resetting the game when it ends\n",
      "\n",
      "This modular architecture separated by responsibility allows for easier testing and maintenance of code. Components can be improved independent of each other.\n"
     ]
    }
   ],
   "source": [
    "from langchain import PromptTemplate\n",
    "\n",
    "# Create a prompt template that has multiple input variables\n",
    "SA_prompt = PromptTemplate(\n",
    "    input_variables=[\"reqirement\"], \n",
    "    template=\"\"\"\n",
    "\n",
    "Human: You will be acting as an solution architect of a software company. \n",
    "Please Design excellent code framework architectures as references for developers according to the following requirement.\n",
    "<reqirement>\n",
    "{reqirement}\n",
    "</reqirement>\n",
    "\n",
    "Assistant:\"\"\"\n",
    ")\n",
    "requir_str = \"\"\"\n",
    "请生成一个贪吃蛇的小游戏。键盘操控小蛇四处走动，小蛇遇到食物后吃掉即长大相应的尺寸，食物被吃掉后将再次在随机位置出现。小蛇遇到边界则game over.\n",
    "\"\"\"\n",
    "prompt = SA_prompt.format(reqirement=requir_str)\n",
    "\n",
    "response = textgen_llm(prompt)\n",
    "sa_solution = response[response.index('\\n')+1:]\n",
    "print(sa_solution)"
   ]
  },
  {
   "cell_type": "code",
   "execution_count": 45,
   "id": "badf072c-a7ea-45f8-b2d2-fadb4bd07b22",
   "metadata": {},
   "outputs": [
    {
     "name": "stdout",
     "output_type": "stream",
     "text": [
      "\n",
      "```python\n",
      "import pygame\n",
      "import random\n",
      "import sys\n",
      "\n",
      "# Game class\n",
      "class Game:\n",
      "    \n",
      "    def __init__(self):\n",
      "        self.screen = pygame.display.set_mode((500, 500))\n",
      "        self.snake = Snake()\n",
      "        self.food = Food()\n",
      "        self.board = Board()\n",
      "        \n",
      "    def run(self):\n",
      "        running = True\n",
      "        while running:\n",
      "            for event in pygame.event.get():\n",
      "                if event.type == pygame.QUIT:\n",
      "                    running = False\n",
      "            \n",
      "            self.snake.handle_keys()\n",
      "            self.snake.move()\n",
      "            \n",
      "            if self.board.collision_with_boundaries(self.snake) or self.snake.self_collision():\n",
      "                running = False\n",
      "                \n",
      "            if self.snake.ate(self.food):\n",
      "                self.snake.grow()\n",
      "                self.food.respawn()\n",
      "                \n",
      "            self.board.draw(self.screen)\n",
      "            self.snake.draw(self.screen)\n",
      "            self.food.draw(self.screen)\n",
      "            pygame.display.update()\n",
      "            \n",
      "        pygame.quit()\n",
      "        sys.exit()\n",
      "        \n",
      "# Snake class        \n",
      "class Snake:\n",
      "    \n",
      "    def __init__(self):\n",
      "        self.size = 1\n",
      "        self.positions = [((250, 250))]\n",
      "        self.direction = pygame.K_RIGHT\n",
      "        \n",
      "    # Handle key events for changing direction  \n",
      "    def handle_keys(self):\n",
      "        pass\n",
      "    \n",
      "    # Move snake in current direction\n",
      "    def move(self):\n",
      "        pass\n",
      "    \n",
      "    # Grow snake when eating food\n",
      "    def grow(self):\n",
      "        pass\n",
      "\n",
      "    # Draw snake on screen\n",
      "    def draw(self, screen):\n",
      "        pass\n",
      "        \n",
      "# Food class\n",
      "class Food:\n",
      "\n",
      "    def __init__(self):\n",
      "        self.position = (100, 100)\n",
      "        self.color = (255, 0, 0)\n",
      "        \n",
      "    # Make food respawn at random location\n",
      "    def respawn(self):\n",
      "        pass\n",
      "    \n",
      "    # Draw food on screen \n",
      "    def draw(self, screen):\n",
      "        pass\n",
      "        \n",
      "# Game board class\n",
      "class Board:\n",
      "\n",
      "    def __init__(self):\n",
      "        self.color = (175, 215, 70)\n",
      "        \n",
      "    # Check for collisions with board boundaries \n",
      "    def collision_with_boundaries(self, snake):\n",
      "        pass\n",
      "    \n",
      "    # Draw board rectangle\n",
      "    def draw(self, screen):\n",
      "        pass\n",
      "        \n",
      "if __name__ == '__main__':\n",
      "    game = Game()\n",
      "    game.run()\n",
      "```\n",
      "\n",
      "This provides a starting structure and framework for a snake game in Python using Pygame. The TODO comments indicate where additional logic needs to be added for the full functionality based on the requirements. Let me know if you have any other questions!\n"
     ]
    }
   ],
   "source": [
    "from langchain import PromptTemplate\n",
    "\n",
    "# Create a prompt template that has multiple input variables\n",
    "coder_prompt = PromptTemplate(\n",
    "    input_variables=[\"reqirement\",\"solution\", \"programmingLanguage\"], \n",
    "    template=\"\"\"\n",
    "\n",
    "Human: You will be acting as an expert software developer in {programmingLanguage}. \n",
    "Please generate runnable code according to the following requirements and based on the given solution.\n",
    "<reqirement>\n",
    "{reqirement}\n",
    "</reqirement>\n",
    "\n",
    "<solution>\n",
    "{solution}\n",
    "</solution>\n",
    "\n",
    "Assistant:\"\"\"\n",
    ")\n",
    "\n",
    "# Pass in values to the input variables\n",
    "prompt = coder_prompt.format(reqirement=requir_str, solution=sa_solution, programmingLanguage=\"python\")\n",
    "\n",
    "response = textgen_llm(prompt)\n",
    "code_explanation = response[response.index('\\n')+1:]\n",
    "print(code_explanation)"
   ]
  },
  {
   "cell_type": "code",
   "execution_count": null,
   "id": "809cc69d-5428-44ba-8a7d-c049efb90a9c",
   "metadata": {},
   "outputs": [],
   "source": []
  }
 ],
 "metadata": {
  "availableInstances": [
   {
    "_defaultOrder": 0,
    "_isFastLaunch": true,
    "category": "General purpose",
    "gpuNum": 0,
    "hideHardwareSpecs": false,
    "memoryGiB": 4,
    "name": "ml.t3.medium",
    "vcpuNum": 2
   },
   {
    "_defaultOrder": 1,
    "_isFastLaunch": false,
    "category": "General purpose",
    "gpuNum": 0,
    "hideHardwareSpecs": false,
    "memoryGiB": 8,
    "name": "ml.t3.large",
    "vcpuNum": 2
   },
   {
    "_defaultOrder": 2,
    "_isFastLaunch": false,
    "category": "General purpose",
    "gpuNum": 0,
    "hideHardwareSpecs": false,
    "memoryGiB": 16,
    "name": "ml.t3.xlarge",
    "vcpuNum": 4
   },
   {
    "_defaultOrder": 3,
    "_isFastLaunch": false,
    "category": "General purpose",
    "gpuNum": 0,
    "hideHardwareSpecs": false,
    "memoryGiB": 32,
    "name": "ml.t3.2xlarge",
    "vcpuNum": 8
   },
   {
    "_defaultOrder": 4,
    "_isFastLaunch": true,
    "category": "General purpose",
    "gpuNum": 0,
    "hideHardwareSpecs": false,
    "memoryGiB": 8,
    "name": "ml.m5.large",
    "vcpuNum": 2
   },
   {
    "_defaultOrder": 5,
    "_isFastLaunch": false,
    "category": "General purpose",
    "gpuNum": 0,
    "hideHardwareSpecs": false,
    "memoryGiB": 16,
    "name": "ml.m5.xlarge",
    "vcpuNum": 4
   },
   {
    "_defaultOrder": 6,
    "_isFastLaunch": false,
    "category": "General purpose",
    "gpuNum": 0,
    "hideHardwareSpecs": false,
    "memoryGiB": 32,
    "name": "ml.m5.2xlarge",
    "vcpuNum": 8
   },
   {
    "_defaultOrder": 7,
    "_isFastLaunch": false,
    "category": "General purpose",
    "gpuNum": 0,
    "hideHardwareSpecs": false,
    "memoryGiB": 64,
    "name": "ml.m5.4xlarge",
    "vcpuNum": 16
   },
   {
    "_defaultOrder": 8,
    "_isFastLaunch": false,
    "category": "General purpose",
    "gpuNum": 0,
    "hideHardwareSpecs": false,
    "memoryGiB": 128,
    "name": "ml.m5.8xlarge",
    "vcpuNum": 32
   },
   {
    "_defaultOrder": 9,
    "_isFastLaunch": false,
    "category": "General purpose",
    "gpuNum": 0,
    "hideHardwareSpecs": false,
    "memoryGiB": 192,
    "name": "ml.m5.12xlarge",
    "vcpuNum": 48
   },
   {
    "_defaultOrder": 10,
    "_isFastLaunch": false,
    "category": "General purpose",
    "gpuNum": 0,
    "hideHardwareSpecs": false,
    "memoryGiB": 256,
    "name": "ml.m5.16xlarge",
    "vcpuNum": 64
   },
   {
    "_defaultOrder": 11,
    "_isFastLaunch": false,
    "category": "General purpose",
    "gpuNum": 0,
    "hideHardwareSpecs": false,
    "memoryGiB": 384,
    "name": "ml.m5.24xlarge",
    "vcpuNum": 96
   },
   {
    "_defaultOrder": 12,
    "_isFastLaunch": false,
    "category": "General purpose",
    "gpuNum": 0,
    "hideHardwareSpecs": false,
    "memoryGiB": 8,
    "name": "ml.m5d.large",
    "vcpuNum": 2
   },
   {
    "_defaultOrder": 13,
    "_isFastLaunch": false,
    "category": "General purpose",
    "gpuNum": 0,
    "hideHardwareSpecs": false,
    "memoryGiB": 16,
    "name": "ml.m5d.xlarge",
    "vcpuNum": 4
   },
   {
    "_defaultOrder": 14,
    "_isFastLaunch": false,
    "category": "General purpose",
    "gpuNum": 0,
    "hideHardwareSpecs": false,
    "memoryGiB": 32,
    "name": "ml.m5d.2xlarge",
    "vcpuNum": 8
   },
   {
    "_defaultOrder": 15,
    "_isFastLaunch": false,
    "category": "General purpose",
    "gpuNum": 0,
    "hideHardwareSpecs": false,
    "memoryGiB": 64,
    "name": "ml.m5d.4xlarge",
    "vcpuNum": 16
   },
   {
    "_defaultOrder": 16,
    "_isFastLaunch": false,
    "category": "General purpose",
    "gpuNum": 0,
    "hideHardwareSpecs": false,
    "memoryGiB": 128,
    "name": "ml.m5d.8xlarge",
    "vcpuNum": 32
   },
   {
    "_defaultOrder": 17,
    "_isFastLaunch": false,
    "category": "General purpose",
    "gpuNum": 0,
    "hideHardwareSpecs": false,
    "memoryGiB": 192,
    "name": "ml.m5d.12xlarge",
    "vcpuNum": 48
   },
   {
    "_defaultOrder": 18,
    "_isFastLaunch": false,
    "category": "General purpose",
    "gpuNum": 0,
    "hideHardwareSpecs": false,
    "memoryGiB": 256,
    "name": "ml.m5d.16xlarge",
    "vcpuNum": 64
   },
   {
    "_defaultOrder": 19,
    "_isFastLaunch": false,
    "category": "General purpose",
    "gpuNum": 0,
    "hideHardwareSpecs": false,
    "memoryGiB": 384,
    "name": "ml.m5d.24xlarge",
    "vcpuNum": 96
   },
   {
    "_defaultOrder": 20,
    "_isFastLaunch": false,
    "category": "General purpose",
    "gpuNum": 0,
    "hideHardwareSpecs": true,
    "memoryGiB": 0,
    "name": "ml.geospatial.interactive",
    "supportedImageNames": [
     "sagemaker-geospatial-v1-0"
    ],
    "vcpuNum": 0
   },
   {
    "_defaultOrder": 21,
    "_isFastLaunch": true,
    "category": "Compute optimized",
    "gpuNum": 0,
    "hideHardwareSpecs": false,
    "memoryGiB": 4,
    "name": "ml.c5.large",
    "vcpuNum": 2
   },
   {
    "_defaultOrder": 22,
    "_isFastLaunch": false,
    "category": "Compute optimized",
    "gpuNum": 0,
    "hideHardwareSpecs": false,
    "memoryGiB": 8,
    "name": "ml.c5.xlarge",
    "vcpuNum": 4
   },
   {
    "_defaultOrder": 23,
    "_isFastLaunch": false,
    "category": "Compute optimized",
    "gpuNum": 0,
    "hideHardwareSpecs": false,
    "memoryGiB": 16,
    "name": "ml.c5.2xlarge",
    "vcpuNum": 8
   },
   {
    "_defaultOrder": 24,
    "_isFastLaunch": false,
    "category": "Compute optimized",
    "gpuNum": 0,
    "hideHardwareSpecs": false,
    "memoryGiB": 32,
    "name": "ml.c5.4xlarge",
    "vcpuNum": 16
   },
   {
    "_defaultOrder": 25,
    "_isFastLaunch": false,
    "category": "Compute optimized",
    "gpuNum": 0,
    "hideHardwareSpecs": false,
    "memoryGiB": 72,
    "name": "ml.c5.9xlarge",
    "vcpuNum": 36
   },
   {
    "_defaultOrder": 26,
    "_isFastLaunch": false,
    "category": "Compute optimized",
    "gpuNum": 0,
    "hideHardwareSpecs": false,
    "memoryGiB": 96,
    "name": "ml.c5.12xlarge",
    "vcpuNum": 48
   },
   {
    "_defaultOrder": 27,
    "_isFastLaunch": false,
    "category": "Compute optimized",
    "gpuNum": 0,
    "hideHardwareSpecs": false,
    "memoryGiB": 144,
    "name": "ml.c5.18xlarge",
    "vcpuNum": 72
   },
   {
    "_defaultOrder": 28,
    "_isFastLaunch": false,
    "category": "Compute optimized",
    "gpuNum": 0,
    "hideHardwareSpecs": false,
    "memoryGiB": 192,
    "name": "ml.c5.24xlarge",
    "vcpuNum": 96
   },
   {
    "_defaultOrder": 29,
    "_isFastLaunch": true,
    "category": "Accelerated computing",
    "gpuNum": 1,
    "hideHardwareSpecs": false,
    "memoryGiB": 16,
    "name": "ml.g4dn.xlarge",
    "vcpuNum": 4
   },
   {
    "_defaultOrder": 30,
    "_isFastLaunch": false,
    "category": "Accelerated computing",
    "gpuNum": 1,
    "hideHardwareSpecs": false,
    "memoryGiB": 32,
    "name": "ml.g4dn.2xlarge",
    "vcpuNum": 8
   },
   {
    "_defaultOrder": 31,
    "_isFastLaunch": false,
    "category": "Accelerated computing",
    "gpuNum": 1,
    "hideHardwareSpecs": false,
    "memoryGiB": 64,
    "name": "ml.g4dn.4xlarge",
    "vcpuNum": 16
   },
   {
    "_defaultOrder": 32,
    "_isFastLaunch": false,
    "category": "Accelerated computing",
    "gpuNum": 1,
    "hideHardwareSpecs": false,
    "memoryGiB": 128,
    "name": "ml.g4dn.8xlarge",
    "vcpuNum": 32
   },
   {
    "_defaultOrder": 33,
    "_isFastLaunch": false,
    "category": "Accelerated computing",
    "gpuNum": 4,
    "hideHardwareSpecs": false,
    "memoryGiB": 192,
    "name": "ml.g4dn.12xlarge",
    "vcpuNum": 48
   },
   {
    "_defaultOrder": 34,
    "_isFastLaunch": false,
    "category": "Accelerated computing",
    "gpuNum": 1,
    "hideHardwareSpecs": false,
    "memoryGiB": 256,
    "name": "ml.g4dn.16xlarge",
    "vcpuNum": 64
   },
   {
    "_defaultOrder": 35,
    "_isFastLaunch": false,
    "category": "Accelerated computing",
    "gpuNum": 1,
    "hideHardwareSpecs": false,
    "memoryGiB": 61,
    "name": "ml.p3.2xlarge",
    "vcpuNum": 8
   },
   {
    "_defaultOrder": 36,
    "_isFastLaunch": false,
    "category": "Accelerated computing",
    "gpuNum": 4,
    "hideHardwareSpecs": false,
    "memoryGiB": 244,
    "name": "ml.p3.8xlarge",
    "vcpuNum": 32
   },
   {
    "_defaultOrder": 37,
    "_isFastLaunch": false,
    "category": "Accelerated computing",
    "gpuNum": 8,
    "hideHardwareSpecs": false,
    "memoryGiB": 488,
    "name": "ml.p3.16xlarge",
    "vcpuNum": 64
   },
   {
    "_defaultOrder": 38,
    "_isFastLaunch": false,
    "category": "Accelerated computing",
    "gpuNum": 8,
    "hideHardwareSpecs": false,
    "memoryGiB": 768,
    "name": "ml.p3dn.24xlarge",
    "vcpuNum": 96
   },
   {
    "_defaultOrder": 39,
    "_isFastLaunch": false,
    "category": "Memory Optimized",
    "gpuNum": 0,
    "hideHardwareSpecs": false,
    "memoryGiB": 16,
    "name": "ml.r5.large",
    "vcpuNum": 2
   },
   {
    "_defaultOrder": 40,
    "_isFastLaunch": false,
    "category": "Memory Optimized",
    "gpuNum": 0,
    "hideHardwareSpecs": false,
    "memoryGiB": 32,
    "name": "ml.r5.xlarge",
    "vcpuNum": 4
   },
   {
    "_defaultOrder": 41,
    "_isFastLaunch": false,
    "category": "Memory Optimized",
    "gpuNum": 0,
    "hideHardwareSpecs": false,
    "memoryGiB": 64,
    "name": "ml.r5.2xlarge",
    "vcpuNum": 8
   },
   {
    "_defaultOrder": 42,
    "_isFastLaunch": false,
    "category": "Memory Optimized",
    "gpuNum": 0,
    "hideHardwareSpecs": false,
    "memoryGiB": 128,
    "name": "ml.r5.4xlarge",
    "vcpuNum": 16
   },
   {
    "_defaultOrder": 43,
    "_isFastLaunch": false,
    "category": "Memory Optimized",
    "gpuNum": 0,
    "hideHardwareSpecs": false,
    "memoryGiB": 256,
    "name": "ml.r5.8xlarge",
    "vcpuNum": 32
   },
   {
    "_defaultOrder": 44,
    "_isFastLaunch": false,
    "category": "Memory Optimized",
    "gpuNum": 0,
    "hideHardwareSpecs": false,
    "memoryGiB": 384,
    "name": "ml.r5.12xlarge",
    "vcpuNum": 48
   },
   {
    "_defaultOrder": 45,
    "_isFastLaunch": false,
    "category": "Memory Optimized",
    "gpuNum": 0,
    "hideHardwareSpecs": false,
    "memoryGiB": 512,
    "name": "ml.r5.16xlarge",
    "vcpuNum": 64
   },
   {
    "_defaultOrder": 46,
    "_isFastLaunch": false,
    "category": "Memory Optimized",
    "gpuNum": 0,
    "hideHardwareSpecs": false,
    "memoryGiB": 768,
    "name": "ml.r5.24xlarge",
    "vcpuNum": 96
   },
   {
    "_defaultOrder": 47,
    "_isFastLaunch": false,
    "category": "Accelerated computing",
    "gpuNum": 1,
    "hideHardwareSpecs": false,
    "memoryGiB": 16,
    "name": "ml.g5.xlarge",
    "vcpuNum": 4
   },
   {
    "_defaultOrder": 48,
    "_isFastLaunch": false,
    "category": "Accelerated computing",
    "gpuNum": 1,
    "hideHardwareSpecs": false,
    "memoryGiB": 32,
    "name": "ml.g5.2xlarge",
    "vcpuNum": 8
   },
   {
    "_defaultOrder": 49,
    "_isFastLaunch": false,
    "category": "Accelerated computing",
    "gpuNum": 1,
    "hideHardwareSpecs": false,
    "memoryGiB": 64,
    "name": "ml.g5.4xlarge",
    "vcpuNum": 16
   },
   {
    "_defaultOrder": 50,
    "_isFastLaunch": false,
    "category": "Accelerated computing",
    "gpuNum": 1,
    "hideHardwareSpecs": false,
    "memoryGiB": 128,
    "name": "ml.g5.8xlarge",
    "vcpuNum": 32
   },
   {
    "_defaultOrder": 51,
    "_isFastLaunch": false,
    "category": "Accelerated computing",
    "gpuNum": 1,
    "hideHardwareSpecs": false,
    "memoryGiB": 256,
    "name": "ml.g5.16xlarge",
    "vcpuNum": 64
   },
   {
    "_defaultOrder": 52,
    "_isFastLaunch": false,
    "category": "Accelerated computing",
    "gpuNum": 4,
    "hideHardwareSpecs": false,
    "memoryGiB": 192,
    "name": "ml.g5.12xlarge",
    "vcpuNum": 48
   },
   {
    "_defaultOrder": 53,
    "_isFastLaunch": false,
    "category": "Accelerated computing",
    "gpuNum": 4,
    "hideHardwareSpecs": false,
    "memoryGiB": 384,
    "name": "ml.g5.24xlarge",
    "vcpuNum": 96
   },
   {
    "_defaultOrder": 54,
    "_isFastLaunch": false,
    "category": "Accelerated computing",
    "gpuNum": 8,
    "hideHardwareSpecs": false,
    "memoryGiB": 768,
    "name": "ml.g5.48xlarge",
    "vcpuNum": 192
   },
   {
    "_defaultOrder": 55,
    "_isFastLaunch": false,
    "category": "Accelerated computing",
    "gpuNum": 8,
    "hideHardwareSpecs": false,
    "memoryGiB": 1152,
    "name": "ml.p4d.24xlarge",
    "vcpuNum": 96
   },
   {
    "_defaultOrder": 56,
    "_isFastLaunch": false,
    "category": "Accelerated computing",
    "gpuNum": 8,
    "hideHardwareSpecs": false,
    "memoryGiB": 1152,
    "name": "ml.p4de.24xlarge",
    "vcpuNum": 96
   }
  ],
  "instance_type": "ml.t3.medium",
  "kernelspec": {
   "display_name": "conda_python3",
   "language": "python",
   "name": "conda_python3"
  },
  "language_info": {
   "codemirror_mode": {
    "name": "ipython",
    "version": 3
   },
   "file_extension": ".py",
   "mimetype": "text/x-python",
   "name": "python",
   "nbconvert_exporter": "python",
   "pygments_lexer": "ipython3",
   "version": "3.10.12"
  }
 },
 "nbformat": 4,
 "nbformat_minor": 5
}
